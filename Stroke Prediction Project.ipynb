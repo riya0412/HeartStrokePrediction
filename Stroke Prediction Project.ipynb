{
 "cells": [
  {
   "cell_type": "markdown",
   "id": "e61f983b",
   "metadata": {},
   "source": [
    "#                               \n",
    "#                                STROKE PREDICTION                    \n"
   ]
  },
  {
   "cell_type": "markdown",
   "id": "f8cf341b",
   "metadata": {},
   "source": [
    "##### Import necessery libraries"
   ]
  },
  {
   "cell_type": "code",
   "execution_count": null,
   "id": "36c4fd26",
   "metadata": {},
   "outputs": [
    {
     "ename": "",
     "evalue": "",
     "output_type": "error",
     "traceback": [
      "\u001b[1;31mRunning cells with 'c:\\Users\\RIYA\\AppData\\Local\\Programs\\Python\\Python311\\python.exe' requires ipykernel package.\n",
      "\u001b[1;31mRun the following command to install 'ipykernel' into the Python environment. \n",
      "\u001b[1;31mCommand: 'c:/Users/RIYA/AppData/Local/Programs/Python/Python311/python.exe -m pip install ipykernel -U --user --force-reinstall'"
     ]
    }
   ],
   "source": [
    "import pandas as pd\n",
    "import numpy as np\n",
    "import matplotlib.pyplot as plt\n",
    "\n",
    "data=pd.read_csv(\"healthcare-dataset-stroke-data.csv\")\n",
    "\n",
    "data.head(10)"
   ]
  },
  {
   "cell_type": "markdown",
   "id": "ee50d709",
   "metadata": {},
   "source": [
    "# Data mining and Data preprocessing"
   ]
  },
  {
   "cell_type": "code",
   "execution_count": null,
   "id": "8f258b32",
   "metadata": {},
   "outputs": [
    {
     "ename": "",
     "evalue": "",
     "output_type": "error",
     "traceback": [
      "\u001b[1;31mRunning cells with 'c:\\Users\\RIYA\\AppData\\Local\\Programs\\Python\\Python311\\python.exe' requires ipykernel package.\n",
      "\u001b[1;31mRun the following command to install 'ipykernel' into the Python environment. \n",
      "\u001b[1;31mCommand: 'c:/Users/RIYA/AppData/Local/Programs/Python/Python311/python.exe -m pip install ipykernel -U --user --force-reinstall'"
     ]
    }
   ],
   "source": [
    "data.describe()"
   ]
  },
  {
   "cell_type": "code",
   "execution_count": null,
   "id": "dcae8fa3",
   "metadata": {
    "scrolled": false
   },
   "outputs": [
    {
     "ename": "",
     "evalue": "",
     "output_type": "error",
     "traceback": [
      "\u001b[1;31mRunning cells with 'c:\\Users\\RIYA\\AppData\\Local\\Programs\\Python\\Python311\\python.exe' requires ipykernel package.\n",
      "\u001b[1;31mRun the following command to install 'ipykernel' into the Python environment. \n",
      "\u001b[1;31mCommand: 'c:/Users/RIYA/AppData/Local/Programs/Python/Python311/python.exe -m pip install ipykernel -U --user --force-reinstall'"
     ]
    }
   ],
   "source": [
    "data.info()"
   ]
  },
  {
   "cell_type": "code",
   "execution_count": null,
   "id": "21fab8aa",
   "metadata": {},
   "outputs": [
    {
     "ename": "",
     "evalue": "",
     "output_type": "error",
     "traceback": [
      "\u001b[1;31mRunning cells with 'c:\\Users\\RIYA\\AppData\\Local\\Programs\\Python\\Python311\\python.exe' requires ipykernel package.\n",
      "\u001b[1;31mRun the following command to install 'ipykernel' into the Python environment. \n",
      "\u001b[1;31mCommand: 'c:/Users/RIYA/AppData/Local/Programs/Python/Python311/python.exe -m pip install ipykernel -U --user --force-reinstall'"
     ]
    }
   ],
   "source": [
    "#independent parameters\n",
    "x=data.iloc[:,1:11]\n",
    "x.head()"
   ]
  },
  {
   "cell_type": "code",
   "execution_count": null,
   "id": "6b22ecc9",
   "metadata": {},
   "outputs": [
    {
     "ename": "",
     "evalue": "",
     "output_type": "error",
     "traceback": [
      "\u001b[1;31mRunning cells with 'c:\\Users\\RIYA\\AppData\\Local\\Programs\\Python\\Python311\\python.exe' requires ipykernel package.\n",
      "\u001b[1;31mRun the following command to install 'ipykernel' into the Python environment. \n",
      "\u001b[1;31mCommand: 'c:/Users/RIYA/AppData/Local/Programs/Python/Python311/python.exe -m pip install ipykernel -U --user --force-reinstall'"
     ]
    }
   ],
   "source": [
    "#dependent parameter\n",
    "y=data.iloc[:,11]\n",
    "y.head()"
   ]
  },
  {
   "cell_type": "code",
   "execution_count": null,
   "id": "93395d82",
   "metadata": {},
   "outputs": [
    {
     "ename": "",
     "evalue": "",
     "output_type": "error",
     "traceback": [
      "\u001b[1;31mRunning cells with 'c:\\Users\\RIYA\\AppData\\Local\\Programs\\Python\\Python311\\python.exe' requires ipykernel package.\n",
      "\u001b[1;31mRun the following command to install 'ipykernel' into the Python environment. \n",
      "\u001b[1;31mCommand: 'c:/Users/RIYA/AppData/Local/Programs/Python/Python311/python.exe -m pip install ipykernel -U --user --force-reinstall'"
     ]
    }
   ],
   "source": [
    "#Numerical_features\n",
    "NF=x[[\"age\",\"bmi\",\"avg_glucose_level\"]]\n",
    "#Cetogorical_features\n",
    "CF=x[[\"gender\",\"hypertension\",\"heart_disease\",\"ever_married\",\"work_type\",\"Residence_type\",\"smoking_status\"]]"
   ]
  },
  {
   "cell_type": "code",
   "execution_count": null,
   "id": "6779b52f",
   "metadata": {},
   "outputs": [
    {
     "ename": "",
     "evalue": "",
     "output_type": "error",
     "traceback": [
      "\u001b[1;31mRunning cells with 'c:\\Users\\RIYA\\AppData\\Local\\Programs\\Python\\Python311\\python.exe' requires ipykernel package.\n",
      "\u001b[1;31mRun the following command to install 'ipykernel' into the Python environment. \n",
      "\u001b[1;31mCommand: 'c:/Users/RIYA/AppData/Local/Programs/Python/Python311/python.exe -m pip install ipykernel -U --user --force-reinstall'"
     ]
    }
   ],
   "source": [
    "#object to int datatype\n",
    "from sklearn.preprocessing import LabelEncoder\n",
    "x_labelencoder=LabelEncoder()\n",
    "x.iloc[:,0]=x_labelencoder.fit_transform(x.iloc[:,0])\n",
    "x.iloc[:,4]=x_labelencoder.fit_transform(x.iloc[:,4])\n",
    "x.iloc[:,5]=x_labelencoder.fit_transform(x.iloc[:,5])\n",
    "x.iloc[:,6]=x_labelencoder.fit_transform(x.iloc[:,6])\n",
    "x.iloc[:,9]=x_labelencoder.fit_transform(x.iloc[:,9])\n",
    "x.head()"
   ]
  },
  {
   "cell_type": "code",
   "execution_count": null,
   "id": "dca07a7e",
   "metadata": {},
   "outputs": [
    {
     "ename": "",
     "evalue": "",
     "output_type": "error",
     "traceback": [
      "\u001b[1;31mRunning cells with 'c:\\Users\\RIYA\\AppData\\Local\\Programs\\Python\\Python311\\python.exe' requires ipykernel package.\n",
      "\u001b[1;31mRun the following command to install 'ipykernel' into the Python environment. \n",
      "\u001b[1;31mCommand: 'c:/Users/RIYA/AppData/Local/Programs/Python/Python311/python.exe -m pip install ipykernel -U --user --force-reinstall'"
     ]
    }
   ],
   "source": [
    "#dealing with null values\n",
    "from sklearn.impute import SimpleImputer\n",
    "missingvalueImputer = SimpleImputer(missing_values=np.nan, strategy =\"mean\")\n",
    "missingvalueImputer = missingvalueImputer.fit(x)\n",
    "\n",
    "x.iloc[:,:]=missingvalueImputer.transform(x.iloc[:,:])\n",
    "x.info()"
   ]
  },
  {
   "cell_type": "code",
   "execution_count": null,
   "id": "442f2bd0",
   "metadata": {},
   "outputs": [
    {
     "ename": "",
     "evalue": "",
     "output_type": "error",
     "traceback": [
      "\u001b[1;31mRunning cells with 'c:\\Users\\RIYA\\AppData\\Local\\Programs\\Python\\Python311\\python.exe' requires ipykernel package.\n",
      "\u001b[1;31mRun the following command to install 'ipykernel' into the Python environment. \n",
      "\u001b[1;31mCommand: 'c:/Users/RIYA/AppData/Local/Programs/Python/Python311/python.exe -m pip install ipykernel -U --user --force-reinstall'"
     ]
    }
   ],
   "source": [
    "#dividing dataset into train and test data\n",
    "from sklearn.model_selection import train_test_split\n",
    "\n",
    "\n",
    "x_train,x_test,y_train,y_test=train_test_split(x,y,test_size=0.025,random_state=0)"
   ]
  },
  {
   "cell_type": "markdown",
   "id": "c096a668",
   "metadata": {},
   "source": [
    "# Model creating and evaluation"
   ]
  },
  {
   "cell_type": "code",
   "execution_count": null,
   "id": "3b67e8a7",
   "metadata": {},
   "outputs": [
    {
     "ename": "",
     "evalue": "",
     "output_type": "error",
     "traceback": [
      "\u001b[1;31mRunning cells with 'c:\\Users\\RIYA\\AppData\\Local\\Programs\\Python\\Python311\\python.exe' requires ipykernel package.\n",
      "\u001b[1;31mRun the following command to install 'ipykernel' into the Python environment. \n",
      "\u001b[1;31mCommand: 'c:/Users/RIYA/AppData/Local/Programs/Python/Python311/python.exe -m pip install ipykernel -U --user --force-reinstall'"
     ]
    }
   ],
   "source": [
    "#Desicion Tree\n",
    "from sklearn.tree import DecisionTreeClassifier\n",
    "\n",
    "decision_tree=DecisionTreeClassifier(criterion=\"entropy\",max_depth=4)\n",
    "decision_tree.fit(x_train,y_train)\n",
    "predictValues=decision_tree.predict(x_test)\n",
    "\n",
    "\n",
    "predictValues\n"
   ]
  },
  {
   "cell_type": "code",
   "execution_count": null,
   "id": "ba430c6d",
   "metadata": {},
   "outputs": [
    {
     "ename": "",
     "evalue": "",
     "output_type": "error",
     "traceback": [
      "\u001b[1;31mRunning cells with 'c:\\Users\\RIYA\\AppData\\Local\\Programs\\Python\\Python311\\python.exe' requires ipykernel package.\n",
      "\u001b[1;31mRun the following command to install 'ipykernel' into the Python environment. \n",
      "\u001b[1;31mCommand: 'c:/Users/RIYA/AppData/Local/Programs/Python/Python311/python.exe -m pip install ipykernel -U --user --force-reinstall'"
     ]
    }
   ],
   "source": [
    "input=[[0,56,1,1,1,2,1,9,54,0]]\n",
    "decision_tree.predict(input)"
   ]
  },
  {
   "cell_type": "code",
   "execution_count": null,
   "id": "9a783e2b",
   "metadata": {},
   "outputs": [
    {
     "ename": "",
     "evalue": "",
     "output_type": "error",
     "traceback": [
      "\u001b[1;31mRunning cells with 'c:\\Users\\RIYA\\AppData\\Local\\Programs\\Python\\Python311\\python.exe' requires ipykernel package.\n",
      "\u001b[1;31mRun the following command to install 'ipykernel' into the Python environment. \n",
      "\u001b[1;31mCommand: 'c:/Users/RIYA/AppData/Local/Programs/Python/Python311/python.exe -m pip install ipykernel -U --user --force-reinstall'"
     ]
    }
   ],
   "source": [
    "from sklearn.metrics import accuracy_score\n",
    "\n",
    "print(accuracy_score(predictValues, y_test))"
   ]
  },
  {
   "cell_type": "code",
   "execution_count": null,
   "id": "1f8a6e73",
   "metadata": {},
   "outputs": [
    {
     "ename": "",
     "evalue": "",
     "output_type": "error",
     "traceback": [
      "\u001b[1;31mRunning cells with 'c:\\Users\\RIYA\\AppData\\Local\\Programs\\Python\\Python311\\python.exe' requires ipykernel package.\n",
      "\u001b[1;31mRun the following command to install 'ipykernel' into the Python environment. \n",
      "\u001b[1;31mCommand: 'c:/Users/RIYA/AppData/Local/Programs/Python/Python311/python.exe -m pip install ipykernel -U --user --force-reinstall'"
     ]
    }
   ],
   "source": [
    "import seaborn as sns\n",
    "from sklearn.metrics import confusion_matrix\n",
    "\n",
    "# passing actual and predicted values\n",
    "cm = confusion_matrix(y_test, predictValues)\n",
    "\n",
    "# true write data values in each cell of the matrix\n",
    "sns.heatmap(cm, annot=True)\n",
    "plt.savefig('confusion.png')"
   ]
  },
  {
   "cell_type": "code",
   "execution_count": null,
   "id": "13a84298",
   "metadata": {},
   "outputs": [
    {
     "ename": "",
     "evalue": "",
     "output_type": "error",
     "traceback": [
      "\u001b[1;31mRunning cells with 'c:\\Users\\RIYA\\AppData\\Local\\Programs\\Python\\Python311\\python.exe' requires ipykernel package.\n",
      "\u001b[1;31mRun the following command to install 'ipykernel' into the Python environment. \n",
      "\u001b[1;31mCommand: 'c:/Users/RIYA/AppData/Local/Programs/Python/Python311/python.exe -m pip install ipykernel -U --user --force-reinstall'"
     ]
    }
   ],
   "source": [
    "data_features_names=x.columns\n",
    "!pip install graphviz\n",
    "from sklearn.tree import export_graphviz\n",
    "from sklearn import tree\n",
    "from graphviz import Source\n",
    "from IPython.display import SVG\n",
    "from IPython.display import display"
   ]
  },
  {
   "cell_type": "code",
   "execution_count": null,
   "id": "d29035f1",
   "metadata": {},
   "outputs": [
    {
     "ename": "",
     "evalue": "",
     "output_type": "error",
     "traceback": [
      "\u001b[1;31mRunning cells with 'c:\\Users\\RIYA\\AppData\\Local\\Programs\\Python\\Python311\\python.exe' requires ipykernel package.\n",
      "\u001b[1;31mRun the following command to install 'ipykernel' into the Python environment. \n",
      "\u001b[1;31mCommand: 'c:/Users/RIYA/AppData/Local/Programs/Python/Python311/python.exe -m pip install ipykernel -U --user --force-reinstall'"
     ]
    }
   ],
   "source": [
    "graph=Source(tree.export_graphviz(decision_tree,feature_names = x.columns,filled=True,rounded=True))\n",
    "display(SVG(graph.pipe(format='svg')))\n",
    "\n",
    "d=2.4\n",
    "c=0.8"
   ]
  },
  {
   "cell_type": "code",
   "execution_count": null,
   "id": "ad4ba48b",
   "metadata": {},
   "outputs": [
    {
     "ename": "",
     "evalue": "",
     "output_type": "error",
     "traceback": [
      "\u001b[1;31mRunning cells with 'c:\\Users\\RIYA\\AppData\\Local\\Programs\\Python\\Python311\\python.exe' requires ipykernel package.\n",
      "\u001b[1;31mRun the following command to install 'ipykernel' into the Python environment. \n",
      "\u001b[1;31mCommand: 'c:/Users/RIYA/AppData/Local/Programs/Python/Python311/python.exe -m pip install ipykernel -U --user --force-reinstall'"
     ]
    }
   ],
   "source": [
    "#Random Forest\n",
    "from sklearn.ensemble import RandomForestClassifier\n",
    "RFClassifier= RandomForestClassifier(n_estimators=3,random_state=22, criterion=\"entropy\",max_depth=3)\n",
    "\n",
    "RFClassifier.fit(x_train,y_train)\n",
    "\n",
    "y_pred=RFClassifier.predict(x_test)\n",
    "\n",
    "print(y_pred)"
   ]
  },
  {
   "cell_type": "code",
   "execution_count": null,
   "id": "b3234968",
   "metadata": {},
   "outputs": [
    {
     "ename": "",
     "evalue": "",
     "output_type": "error",
     "traceback": [
      "\u001b[1;31mRunning cells with 'c:\\Users\\RIYA\\AppData\\Local\\Programs\\Python\\Python311\\python.exe' requires ipykernel package.\n",
      "\u001b[1;31mRun the following command to install 'ipykernel' into the Python environment. \n",
      "\u001b[1;31mCommand: 'c:/Users/RIYA/AppData/Local/Programs/Python/Python311/python.exe -m pip install ipykernel -U --user --force-reinstall'"
     ]
    }
   ],
   "source": [
    "input=[[0,56,1,1,1,2,1,9,54,0]]\n",
    "RFClassifier.predict(input)"
   ]
  },
  {
   "cell_type": "code",
   "execution_count": null,
   "id": "f8379a41",
   "metadata": {},
   "outputs": [
    {
     "ename": "",
     "evalue": "",
     "output_type": "error",
     "traceback": [
      "\u001b[1;31mRunning cells with 'c:\\Users\\RIYA\\AppData\\Local\\Programs\\Python\\Python311\\python.exe' requires ipykernel package.\n",
      "\u001b[1;31mRun the following command to install 'ipykernel' into the Python environment. \n",
      "\u001b[1;31mCommand: 'c:/Users/RIYA/AppData/Local/Programs/Python/Python311/python.exe -m pip install ipykernel -U --user --force-reinstall'"
     ]
    }
   ],
   "source": [
    "from sklearn.metrics import accuracy_score\n",
    "\n",
    "print(accuracy_score(y_pred, y_test))"
   ]
  },
  {
   "cell_type": "markdown",
   "id": "424ace92",
   "metadata": {},
   "source": [
    "# Data Visualization"
   ]
  },
  {
   "cell_type": "code",
   "execution_count": null,
   "id": "69d08135",
   "metadata": {},
   "outputs": [
    {
     "ename": "",
     "evalue": "",
     "output_type": "error",
     "traceback": [
      "\u001b[1;31mRunning cells with 'c:\\Users\\RIYA\\AppData\\Local\\Programs\\Python\\Python311\\python.exe' requires ipykernel package.\n",
      "\u001b[1;31mRun the following command to install 'ipykernel' into the Python environment. \n",
      "\u001b[1;31mCommand: 'c:/Users/RIYA/AppData/Local/Programs/Python/Python311/python.exe -m pip install ipykernel -U --user --force-reinstall'"
     ]
    }
   ],
   "source": [
    "import matplotlib.colors as mcolors\n",
    "colors = list(mcolors.CSS4_COLORS.keys())[10:]\n",
    "def draw_histograms(dataframe, features, rows, cols):\n",
    "    fig=plt.figure(figsize=(20,20))\n",
    "    for i, feature in enumerate(features):\n",
    "        ax=fig.add_subplot(rows,cols,i+1)\n",
    "        dataframe[feature].hist(bins=20,ax=ax,facecolor=colors[i])\n",
    "        ax.set_title(feature+\" Histogram\",color=colors[35])\n",
    "        ax.set_yscale('log')\n",
    "    fig.tight_layout() \n",
    "    plt.savefig('Histograms1.png')\n",
    "    plt.show()\n",
    "draw_histograms(data,data.columns,8,4)"
   ]
  },
  {
   "cell_type": "code",
   "execution_count": null,
   "id": "d5bc6d2f",
   "metadata": {},
   "outputs": [
    {
     "ename": "",
     "evalue": "",
     "output_type": "error",
     "traceback": [
      "\u001b[1;31mRunning cells with 'c:\\Users\\RIYA\\AppData\\Local\\Programs\\Python\\Python311\\python.exe' requires ipykernel package.\n",
      "\u001b[1;31mRun the following command to install 'ipykernel' into the Python environment. \n",
      "\u001b[1;31mCommand: 'c:/Users/RIYA/AppData/Local/Programs/Python/Python311/python.exe -m pip install ipykernel -U --user --force-reinstall'"
     ]
    }
   ],
   "source": [
    "import seaborn as sns\n",
    "plt.figure(figsize = (20,10))\n",
    "sns.heatmap(x.corr(), annot = True)\n",
    "plt.savefig('heatmap.png')\n",
    "plt.show()"
   ]
  },
  {
   "cell_type": "code",
   "execution_count": null,
   "id": "a0082c80",
   "metadata": {},
   "outputs": [
    {
     "ename": "",
     "evalue": "",
     "output_type": "error",
     "traceback": [
      "\u001b[1;31mRunning cells with 'c:\\Users\\RIYA\\AppData\\Local\\Programs\\Python\\Python311\\python.exe' requires ipykernel package.\n",
      "\u001b[1;31mRun the following command to install 'ipykernel' into the Python environment. \n",
      "\u001b[1;31mCommand: 'c:/Users/RIYA/AppData/Local/Programs/Python/Python311/python.exe -m pip install ipykernel -U --user --force-reinstall'"
     ]
    }
   ],
   "source": [
    "ageno=data.loc[data['stroke']==0,\"age\"]\n",
    "print(len(ageno))\n",
    "ageyes=data.loc[data['stroke']==1,\"age\"]\n",
    "print(len(ageyes))"
   ]
  },
  {
   "cell_type": "code",
   "execution_count": null,
   "id": "c5ffcbba",
   "metadata": {},
   "outputs": [
    {
     "ename": "",
     "evalue": "",
     "output_type": "error",
     "traceback": [
      "\u001b[1;31mRunning cells with 'c:\\Users\\RIYA\\AppData\\Local\\Programs\\Python\\Python311\\python.exe' requires ipykernel package.\n",
      "\u001b[1;31mRun the following command to install 'ipykernel' into the Python environment. \n",
      "\u001b[1;31mCommand: 'c:/Users/RIYA/AppData/Local/Programs/Python/Python311/python.exe -m pip install ipykernel -U --user --force-reinstall'"
     ]
    }
   ],
   "source": [
    "bmiyes=data.loc[data['stroke']==1,\"bmi\"]                                          #bmi with stroke\n",
    "bmino=data.loc[data['stroke']==0,\"bmi\"]                                           #bmi without stroke\n",
    "gluyes=data.loc[data['stroke']==1,\"avg_glucose_level\"]                            #glucose level with stroke\n",
    "gluno=data.loc[data['stroke']==0,\"avg_glucose_level\"]                             #glucose level without stroke\n",
    "maleyes=data.loc[(data['stroke']==1)&(x[\"gender\"]==1)]                            #male with stroke\n",
    "maleno=data.loc[(data['stroke']==0)&(x[\"gender\"]==1)]                             #male without stroke\n",
    "femaleyes=data.loc[(data['stroke']==1)&(x[\"gender\"]==0)]                          #female with stroke\n",
    "femaleno=data.loc[(data['stroke']==0)&(x[\"gender\"]==0)]                           #female without stroke\n",
    "marriedyes=data.loc[(data['stroke']==1)&(x[\"ever_married\"]==1)]                   #married with stroke\n",
    "marriedno=data.loc[(data['stroke']==0)&(x[\"ever_married\"]==1)]                    #married without stroke\n",
    "unmarriedyes=data.loc[(data['stroke']==1)&(x[\"ever_married\"]==0)]                 #unmarried with stroke\n",
    "unmarriedno=data.loc[(data['stroke']==0)&(x[\"ever_married\"]==0)]                  #unmarried without stroke\n",
    "ruralyes=data.loc[(data['stroke']==1)&(x[\"Residence_type\"]==0)]                   #rural with stroke\n",
    "ruralno=data.loc[(data['stroke']==0)&(x[\"Residence_type\"]==0)]                    #rural without stroke\n",
    "urbanyes=data.loc[(data['stroke']==1)&(x[\"Residence_type\"]==1)]                   #urban with stroke\n",
    "urbanno=data.loc[(data['stroke']==0)&(x[\"Residence_type\"]==1)]                    #urban without stroke\n"
   ]
  },
  {
   "cell_type": "code",
   "execution_count": null,
   "id": "56b1f2c5",
   "metadata": {},
   "outputs": [
    {
     "ename": "",
     "evalue": "",
     "output_type": "error",
     "traceback": [
      "\u001b[1;31mRunning cells with 'c:\\Users\\RIYA\\AppData\\Local\\Programs\\Python\\Python311\\python.exe' requires ipykernel package.\n",
      "\u001b[1;31mRun the following command to install 'ipykernel' into the Python environment. \n",
      "\u001b[1;31mCommand: 'c:/Users/RIYA/AppData/Local/Programs/Python/Python311/python.exe -m pip install ipykernel -U --user --force-reinstall'"
     ]
    }
   ],
   "source": [
    "from matplotlib.pyplot import figure\n",
    "x=[\"AGE\",\"BMI\",\"AVG_GLUCOSE_LEVEL\",\"Male\",\"Female\",\"Married\",\"Unmarried\",\"Rural\",\"Urban\"]\n",
    "yess=[len(ageyes),len(bmiyes),len(gluyes),len(maleyes),len(femaleyes),len(marriedyes),len(unmarriedyes),len(ruralyes),len(urbanyes)]\n",
    "noo=[len(ageno),len(bmino),len(gluno),len(maleno),len(femaleno),len(marriedno),len(unmarriedno),len(ruralno),len(urbanno)]\n",
    "\n",
    "w=0.4\n",
    "figure(figsize=(20,8))\n",
    "plt.bar(x,yess,w,label=\"YES\")\n",
    "plt.bar(x,noo,w,bottom=yess,label=\"NO\")\n",
    "plt.xlabel('features')\n",
    "plt.ylabel(\"No. of stroke\")\n",
    "plt.legend()\n",
    "plt.savefig(\"features.jpg\")"
   ]
  },
  {
   "cell_type": "code",
   "execution_count": null,
   "id": "036c0816",
   "metadata": {},
   "outputs": [
    {
     "ename": "",
     "evalue": "",
     "output_type": "error",
     "traceback": [
      "\u001b[1;31mRunning cells with 'c:\\Users\\RIYA\\AppData\\Local\\Programs\\Python\\Python311\\python.exe' requires ipykernel package.\n",
      "\u001b[1;31mRun the following command to install 'ipykernel' into the Python environment. \n",
      "\u001b[1;31mCommand: 'c:/Users/RIYA/AppData/Local/Programs/Python/Python311/python.exe -m pip install ipykernel -U --user --force-reinstall'"
     ]
    }
   ],
   "source": [
    "hy=data.loc[(data['stroke']==1)&(data[\"hypertension\"]==1)]        #with hypertension\n",
    "hn=data.loc[(data['stroke']==1)&(data[\"hypertension\"]==0)]        #without hypertension"
   ]
  },
  {
   "cell_type": "code",
   "execution_count": null,
   "id": "dd913cbd",
   "metadata": {},
   "outputs": [
    {
     "ename": "",
     "evalue": "",
     "output_type": "error",
     "traceback": [
      "\u001b[1;31mRunning cells with 'c:\\Users\\RIYA\\AppData\\Local\\Programs\\Python\\Python311\\python.exe' requires ipykernel package.\n",
      "\u001b[1;31mRun the following command to install 'ipykernel' into the Python environment. \n",
      "\u001b[1;31mCommand: 'c:/Users/RIYA/AppData/Local/Programs/Python/Python311/python.exe -m pip install ipykernel -U --user --force-reinstall'"
     ]
    }
   ],
   "source": [
    "dt=[len(hy),len(hn)]\n",
    "label=[\"hypertension\"]\n",
    "plt.pie(dt,autopct=\"%2d%%\")\n",
    "plt.legend(label,loc=\"best\")\n",
    "circle = plt.Circle( (0,0), 0.7, color='white')\n",
    "p=plt.gcf()\n",
    "p.gca().add_artist(circle)\n",
    "plt.show()\n",
    "plt.savefig(\"piechart1.jpg\")"
   ]
  },
  {
   "cell_type": "code",
   "execution_count": null,
   "id": "ba02c01b",
   "metadata": {},
   "outputs": [
    {
     "ename": "",
     "evalue": "",
     "output_type": "error",
     "traceback": [
      "\u001b[1;31mRunning cells with 'c:\\Users\\RIYA\\AppData\\Local\\Programs\\Python\\Python311\\python.exe' requires ipykernel package.\n",
      "\u001b[1;31mRun the following command to install 'ipykernel' into the Python environment. \n",
      "\u001b[1;31mCommand: 'c:/Users/RIYA/AppData/Local/Programs/Python/Python311/python.exe -m pip install ipykernel -U --user --force-reinstall'"
     ]
    }
   ],
   "source": [
    "# smoking data\n",
    "unknown=data.loc[(data['stroke']==1)&(x[\"smoking_status\"]==0)]           #unkown\n",
    "smkform=data.loc[(data['stroke']==1)&(x[\"smoking_status\"]==1)]       #formaly smokes\n",
    "smkno=data.loc[(data['stroke']==1)&(x[\"smoking_status\"]==2)]         #never smoked\n",
    "smk3=data.loc[(data['stroke']==1)&(x[\"smoking_status\"]==3)]          #smokes\n"
   ]
  },
  {
   "cell_type": "code",
   "execution_count": null,
   "id": "520eae7d",
   "metadata": {},
   "outputs": [
    {
     "ename": "",
     "evalue": "",
     "output_type": "error",
     "traceback": [
      "\u001b[1;31mRunning cells with 'c:\\Users\\RIYA\\AppData\\Local\\Programs\\Python\\Python311\\python.exe' requires ipykernel package.\n",
      "\u001b[1;31mRun the following command to install 'ipykernel' into the Python environment. \n",
      "\u001b[1;31mCommand: 'c:/Users/RIYA/AppData/Local/Programs/Python/Python311/python.exe -m pip install ipykernel -U --user --force-reinstall'"
     ]
    }
   ],
   "source": [
    "dt=[len(smk3),len(smkform),len(smkno),len(unknown)]\n",
    "label=[\"smokes frequently\",\"smoke ocassionally\",\"never smoked\",\"Unknown\"]\n",
    "plt.pie(dt,autopct=\"%2d%%\")\n",
    "plt.legend(label,loc='upper right')\n",
    "plt.title(\"Affect of smoking\")\n",
    "plt.savefig(\"piechart2.png\")"
   ]
  },
  {
   "cell_type": "markdown",
   "id": "59f15ef4",
   "metadata": {},
   "source": [
    "# Finalizing the Model and saving it"
   ]
  },
  {
   "cell_type": "code",
   "execution_count": null,
   "id": "e8e1b8cf",
   "metadata": {},
   "outputs": [
    {
     "ename": "",
     "evalue": "",
     "output_type": "error",
     "traceback": [
      "\u001b[1;31mRunning cells with 'c:\\Users\\RIYA\\AppData\\Local\\Programs\\Python\\Python311\\python.exe' requires ipykernel package.\n",
      "\u001b[1;31mRun the following command to install 'ipykernel' into the Python environment. \n",
      "\u001b[1;31mCommand: 'c:/Users/RIYA/AppData/Local/Programs/Python/Python311/python.exe -m pip install ipykernel -U --user --force-reinstall'"
     ]
    }
   ],
   "source": [
    "#final model\n",
    "from sklearn.ensemble import RandomForestClassifier\n",
    "model= RandomForestClassifier(n_estimators=3,random_state=22, criterion=\"entropy\",max_depth=3)\n",
    "\n",
    "model.fit(x_train,y_train)\n",
    "\n",
    "y_pred=model.predict(x_test)\n",
    "\n",
    "print(y_pred)"
   ]
  },
  {
   "cell_type": "code",
   "execution_count": null,
   "id": "2c87d2fb",
   "metadata": {},
   "outputs": [
    {
     "ename": "",
     "evalue": "",
     "output_type": "error",
     "traceback": [
      "\u001b[1;31mRunning cells with 'c:\\Users\\RIYA\\AppData\\Local\\Programs\\Python\\Python311\\python.exe' requires ipykernel package.\n",
      "\u001b[1;31mRun the following command to install 'ipykernel' into the Python environment. \n",
      "\u001b[1;31mCommand: 'c:/Users/RIYA/AppData/Local/Programs/Python/Python311/python.exe -m pip install ipykernel -U --user --force-reinstall'"
     ]
    }
   ],
   "source": [
    "model.score(x_test,y_test)"
   ]
  },
  {
   "cell_type": "code",
   "execution_count": null,
   "id": "6fa68a80",
   "metadata": {},
   "outputs": [
    {
     "ename": "",
     "evalue": "",
     "output_type": "error",
     "traceback": [
      "\u001b[1;31mRunning cells with 'c:\\Users\\RIYA\\AppData\\Local\\Programs\\Python\\Python311\\python.exe' requires ipykernel package.\n",
      "\u001b[1;31mRun the following command to install 'ipykernel' into the Python environment. \n",
      "\u001b[1;31mCommand: 'c:/Users/RIYA/AppData/Local/Programs/Python/Python311/python.exe -m pip install ipykernel -U --user --force-reinstall'"
     ]
    }
   ],
   "source": [
    "#Saving the model\n",
    "import pickle\n",
    "with open('model_pickle.pk1','wb') as file:\n",
    "    pickle.dump(model,file)"
   ]
  },
  {
   "cell_type": "markdown",
   "id": "3b2ad7ce",
   "metadata": {},
   "source": [
    "### Thank You & presented by:-\n",
    "\n",
    "# Riya Dubey\n",
    "# Rashmi Gourh\n",
    "# Parmeet Kaur\n",
    "# Mohd Rameez Ansari\n",
    "\n",
    "## :-) We rest our case...\n"
   ]
  },
  {
   "cell_type": "code",
   "execution_count": null,
   "id": "956b1cdd",
   "metadata": {},
   "outputs": [
    {
     "ename": "",
     "evalue": "",
     "output_type": "error",
     "traceback": [
      "\u001b[1;31mRunning cells with 'c:\\Users\\RIYA\\AppData\\Local\\Programs\\Python\\Python311\\python.exe' requires ipykernel package.\n",
      "\u001b[1;31mRun the following command to install 'ipykernel' into the Python environment. \n",
      "\u001b[1;31mCommand: 'c:/Users/RIYA/AppData/Local/Programs/Python/Python311/python.exe -m pip install ipykernel -U --user --force-reinstall'"
     ]
    }
   ],
   "source": []
  },
  {
   "cell_type": "code",
   "execution_count": null,
   "id": "b9fbc57c",
   "metadata": {},
   "outputs": [
    {
     "ename": "",
     "evalue": "",
     "output_type": "error",
     "traceback": [
      "\u001b[1;31mRunning cells with 'c:\\Users\\RIYA\\AppData\\Local\\Programs\\Python\\Python311\\python.exe' requires ipykernel package.\n",
      "\u001b[1;31mRun the following command to install 'ipykernel' into the Python environment. \n",
      "\u001b[1;31mCommand: 'c:/Users/RIYA/AppData/Local/Programs/Python/Python311/python.exe -m pip install ipykernel -U --user --force-reinstall'"
     ]
    }
   ],
   "source": []
  }
 ],
 "metadata": {
  "kernelspec": {
   "display_name": "Python 3",
   "language": "python",
   "name": "python3"
  },
  "language_info": {
   "codemirror_mode": {
    "name": "ipython",
    "version": 3
   },
   "file_extension": ".py",
   "mimetype": "text/x-python",
   "name": "python",
   "nbconvert_exporter": "python",
   "pygments_lexer": "ipython3",
   "version": "3.11.1 (tags/v3.11.1:a7a450f, Dec  6 2022, 19:58:39) [MSC v.1934 64 bit (AMD64)]"
  },
  "vscode": {
   "interpreter": {
    "hash": "b409accae486c5563ef89a5a18fa3cd17a4f4ec2fb92857ebb8f00636a45f5a1"
   }
  }
 },
 "nbformat": 4,
 "nbformat_minor": 5
}
